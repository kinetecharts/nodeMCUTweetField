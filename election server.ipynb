{
 "cells": [
  {
   "cell_type": "code",
   "execution_count": 1,
   "metadata": {
    "ExecuteTime": {
     "end_time": "2016-09-11T03:19:20.328293",
     "start_time": "2016-09-11T10:19:20.255Z"
    },
    "code_folding": [
     0
    ],
    "collapsed": false
   },
   "outputs": [
    {
     "data": {
      "text/plain": [
       "{ state: 'pending' }"
      ]
     },
     "execution_count": 1,
     "metadata": {},
     "output_type": "execute_result"
    },
    {
     "name": "stdout",
     "output_type": "stream",
     "text": [
      "all done\n"
     ]
    }
   ],
   "source": [
    "// init\n",
    "\"use strict\";\n",
    "\n",
    "var _ = require('lodash');\n",
    "\n",
    "var Q = require('q');\n",
    "var fs = require('fs');\n",
    "var split = require('split');\n",
    "\n",
    "var Config = require('./config')\n",
    "var PlayStream = require('./play_stream');\n",
    "var Controller = require('./controller');\n",
    "var Hashtags = require('./data/hashtags');\n",
    "var Network = require('./network')\n",
    "\n",
    "var Log = function(){\n",
    "    var msg = _.map(arguments, b=>{return b==null ? 'NULL' : b.toString()}).join(' ')+'\\n'\n",
    "    fs.appendFile('log.txt', msg, function (err) {\n",
    "      if (err) throw err;\n",
    "    });    \n",
    "};\n",
    "\n",
    "var controller = new Controller(Network)\n",
    "\n",
    "controller.init()\n",
    "    .then(()=>{\n",
    "        Network.startServer(controller.heart_beat_received.bind(controller))\n",
    "        console.log(\"all done\")\n",
    "        controller.startTweet(100)\n",
    "    })\n",
    "    .catch(err=>{console.log(err)})"
   ]
  },
  {
   "cell_type": "code",
   "execution_count": 2,
   "metadata": {
    "ExecuteTime": {
     "end_time": "2016-09-11T03:03:42.372846",
     "start_time": "2016-09-11T10:03:42.369Z"
    },
    "collapsed": false
   },
   "outputs": [
    {
     "data": {
      "text/plain": [
       "undefined"
      ]
     },
     "execution_count": 2,
     "metadata": {},
     "output_type": "execute_result"
    }
   ],
   "source": [
    "controller.stopTweet()\n",
    "// controller.startTweet(100)\n",
    "// Config.DEBUG=!Config.DEBUG\n",
    "// Config.MonitHeart = !Config.MonitHeart"
   ]
  },
  {
   "cell_type": "code",
   "execution_count": 7,
   "metadata": {
    "ExecuteTime": {
     "end_time": "2016-09-11T03:04:12.680020",
     "start_time": "2016-09-11T10:04:12.677Z"
    },
    "collapsed": false
   },
   "outputs": [
    {
     "data": {
      "text/plain": [
       "undefined"
      ]
     },
     "execution_count": 7,
     "metadata": {},
     "output_type": "execute_result"
    }
   ],
   "source": [
    "option={\n",
    "    duration: 1000,\n",
    "    sequential: true,\n",
    "    sequential_delta: 10,\n",
    "    randomize: false,\n",
    "    randomize_range: 300,\n",
    "    drift: true,\n",
    "    drift_delta:10\n",
    "}\n",
    "controller.startRegular(option)"
   ]
  },
  {
   "cell_type": "code",
   "execution_count": 8,
   "metadata": {
    "ExecuteTime": {
     "end_time": "2016-09-11T03:04:32.856650",
     "start_time": "2016-09-11T10:04:32.853Z"
    },
    "collapsed": false
   },
   "outputs": [
    {
     "data": {
      "text/plain": [
       "undefined"
      ]
     },
     "execution_count": 8,
     "metadata": {},
     "output_type": "execute_result"
    }
   ],
   "source": [
    "controller.stopRegular()"
   ]
  },
  {
   "cell_type": "code",
   "execution_count": 13,
   "metadata": {
    "ExecuteTime": {
     "end_time": "2016-09-11T03:00:15.640453",
     "start_time": "2016-09-11T10:00:15.634Z"
    },
    "collapsed": false
   },
   "outputs": [
    {
     "data": {
      "text/plain": [
       "[ 1, 2, 3, 4, 5 ]"
      ]
     },
     "execution_count": 13,
     "metadata": {},
     "output_type": "execute_result"
    }
   ],
   "source": [
    "a=[1,2,3,4,5]"
   ]
  },
  {
   "cell_type": "code",
   "execution_count": 17,
   "metadata": {
    "ExecuteTime": {
     "end_time": "2016-09-11T03:00:50.790557",
     "start_time": "2016-09-11T10:00:50.784Z"
    },
    "collapsed": false
   },
   "outputs": [
    {
     "data": {
      "text/plain": [
       "undefined"
      ]
     },
     "execution_count": 17,
     "metadata": {},
     "output_type": "execute_result"
    }
   ],
   "source": [
    "a.shift()"
   ]
  },
  {
   "cell_type": "code",
   "execution_count": 16,
   "metadata": {
    "ExecuteTime": {
     "end_time": "2016-09-11T03:00:49.009632",
     "start_time": "2016-09-11T10:00:49.007Z"
    },
    "collapsed": false
   },
   "outputs": [
    {
     "data": {
      "text/plain": [
       "[]"
      ]
     },
     "execution_count": 16,
     "metadata": {},
     "output_type": "execute_result"
    }
   ],
   "source": [
    "a=[]"
   ]
  },
  {
   "cell_type": "code",
   "execution_count": null,
   "metadata": {
    "collapsed": true
   },
   "outputs": [],
   "source": []
  },
  {
   "cell_type": "code",
   "execution_count": null,
   "metadata": {
    "collapsed": true
   },
   "outputs": [],
   "source": []
  },
  {
   "cell_type": "code",
   "execution_count": null,
   "metadata": {
    "collapsed": true
   },
   "outputs": [],
   "source": []
  },
  {
   "cell_type": "code",
   "execution_count": 21,
   "metadata": {
    "ExecuteTime": {
     "end_time": "2016-09-11T01:49:16.279550",
     "start_time": "2016-09-11T08:49:16.272Z"
    },
    "collapsed": false
   },
   "outputs": [
    {
     "data": {
      "text/plain": [
       "'ID:3#BPM:58.25'"
      ]
     },
     "execution_count": 21,
     "metadata": {},
     "output_type": "execute_result"
    }
   ],
   "source": [
    "a='ID:3#BPM:58.25'"
   ]
  },
  {
   "cell_type": "code",
   "execution_count": 26,
   "metadata": {
    "ExecuteTime": {
     "end_time": "2016-09-11T01:49:54.087936",
     "start_time": "2016-09-11T08:49:54.085Z"
    },
    "collapsed": false
   },
   "outputs": [
    {
     "data": {
      "text/plain": [
       "false"
      ]
     },
     "execution_count": 26,
     "metadata": {},
     "output_type": "execute_result"
    }
   ],
   "source": [
    "a.match('BPM')==null"
   ]
  },
  {
   "cell_type": "code",
   "execution_count": null,
   "metadata": {
    "collapsed": true
   },
   "outputs": [],
   "source": []
  },
  {
   "cell_type": "code",
   "execution_count": null,
   "metadata": {
    "collapsed": true
   },
   "outputs": [],
   "source": []
  },
  {
   "cell_type": "code",
   "execution_count": null,
   "metadata": {
    "collapsed": true
   },
   "outputs": [],
   "source": []
  },
  {
   "cell_type": "code",
   "execution_count": null,
   "metadata": {
    "collapsed": true
   },
   "outputs": [],
   "source": []
  },
  {
   "cell_type": "code",
   "execution_count": null,
   "metadata": {
    "collapsed": true
   },
   "outputs": [],
   "source": []
  },
  {
   "cell_type": "code",
   "execution_count": 6,
   "metadata": {
    "ExecuteTime": {
     "end_time": "2016-09-09T19:52:46.094533",
     "start_time": "2016-09-10T02:52:46.083Z"
    },
    "code_folding": [],
    "collapsed": true
   },
   "outputs": [
    {
     "data": {
      "text/plain": [
       "Socket {\n",
       "  domain: null,\n",
       "  _events: { listening: [Function], message: [Function] },\n",
       "  _eventsCount: 2,\n",
       "  _maxListeners: undefined,\n",
       "  _handle: UDP { fd: -1, lookup: [Function: lookup4], owner: [Circular] },\n",
       "  _receiving: false,\n",
       "  _bindState: 1,\n",
       "  type: 'udp4',\n",
       "  fd: null,\n",
       "  _reuseAddr: undefined }"
      ]
     },
     "execution_count": 6,
     "metadata": {},
     "output_type": "execute_result"
    },
    {
     "name": "stdout",
     "output_type": "stream",
     "text": [
      "UDP Server listening on 192.168.0.100:12346\n"
     ]
    }
   ],
   "source": [
    "var devices=(function(){\n",
    "    var devDict = [];\n",
    "    var cnt = 0;\n",
    "    var devDuration = {\n",
    "        1 : 6,\n",
    "        2 : 7,\n",
    "        3 : 8\n",
    "    }\n",
    "    var that = this;\n",
    "\n",
    "    var add=function(ip, id){\n",
    "        var ips = _.map(devDict, 'ip');\n",
    "\n",
    "        if(ips.indexOf(ip)<0){\n",
    "            devDict.push({\n",
    "                id:id,\n",
    "                ip:ip\n",
    "            })\n",
    "            console.log(\"added \", ip, id, \"to device list\", devDict.length, \"devices\")\n",
    "        }\n",
    "    }\n",
    "\n",
    "    var rm=function(ip){\n",
    "        console.log()\n",
    "        _.remove(devDict, d=>{\n",
    "            return d.ip == ip\n",
    "        })\n",
    "        console.log(\"remove\", ip, \"from pool\", devDict.length, \"devices left\")\n",
    "    }\n",
    "\n",
    "    var show=function(){\n",
    "        devList.forEach(ip=>{\n",
    "            console.log(ip)\n",
    "        })\n",
    "    }\n",
    "\n",
    "    var trigger=function(ip){\n",
    "        client.send(message, 0, message.length, PORT, ip, function(err, bytes) {\n",
    "            if (err){\n",
    "                console.log(err)\n",
    "                devices.rm(ip)\n",
    "                // throw err;\n",
    "            }\n",
    "            console.log('UDP message sent to ' + ip +':'+ PORT);\n",
    "        })\n",
    "    }\n",
    "\n",
    "    var triggerAll=function(){\n",
    "        _.forEach(devDict, dev=>{\n",
    "            var duration = devDuration[dev.id]\n",
    "            if(cnt % duration == 0){\n",
    "                trigger(dev.ip)\n",
    "            }\n",
    "        })\n",
    "        cnt+=1\n",
    "        // devList.forEach(ip=>{trigger(ip)})\n",
    "    }\n",
    "\n",
    "    return {\n",
    "        add: add,\n",
    "        rm: rm,\n",
    "        show: show,\n",
    "        triggerAll: triggerAll\n",
    "    }\n",
    "}())\n",
    "\n",
    "server.on('listening', ()=>{\n",
    "    var address = server.address();\n",
    "    console.log('UDP Server listening on ' + address.address + \":\" + address.port);\n",
    "})\n",
    "\n",
    "server.on('message', (message, remote)=>{\n",
    "    var msgSplit = message.toString().trim().split(' ')\n",
    "    var msgType = msgSplit[0];\n",
    "    switch(msgType){\n",
    "        case \"Heartbeat\":\n",
    "            var ip = msgSplit[4].split(\":\")[1]\n",
    "            var id = msgSplit[3].split(\":\")[1]\n",
    "//             console.log(\"Heartbeat ===== ID:\", id, \"IP:\", ip)\n",
    "            devices.add(remote.address, id);\n",
    "            break;\n",
    "        default :\n",
    "//         console.log(remote.address + ':' + remote.port +' - ' + message);\n",
    "    }\n",
    "//     console.log(remote.address + ':' + remote.port +' - ' + message);\n",
    "});\n",
    "\n",
    "server.bind(LOCALPORT, LOCALHOST);\n",
    "\n",
    "var action=function(){\n",
    "    devices.triggerAll();\n",
    "\n",
    "    setTimeout(action, 100);\n",
    "}"
   ]
  },
  {
   "cell_type": "code",
   "execution_count": 7,
   "metadata": {
    "ExecuteTime": {
     "end_time": "2016-09-09T19:52:52.408229",
     "start_time": "2016-09-10T02:52:52.404Z"
    },
    "collapsed": true
   },
   "outputs": [
    {
     "data": {
      "text/plain": [
       "undefined"
      ]
     },
     "execution_count": 7,
     "metadata": {},
     "output_type": "execute_result"
    },
    {
     "name": "stdout",
     "output_type": "stream",
     "text": [
      "added  192.168.0.102 1 to device list 1 devices\n",
      "UDP message sent to 192.168.0.102:12345\n",
      "UDP message sent to 192.168.0.102:12345\n",
      "UDP message sent to 192.168.0.102:12345\n",
      "UDP message sent to 192.168.0.102:12345\n",
      "UDP message sent to 192.168.0.102:12345\n",
      "UDP message sent to 192.168.0.102:12345\n",
      "UDP message sent to 192.168.0.102:12345\n",
      "UDP message sent to 192.168.0.102:12345\n",
      "UDP message sent to 192.168.0.102:12345\n",
      "UDP message sent to 192.168.0.102:12345\n",
      "UDP message sent to 192.168.0.102:12345\n",
      "UDP message sent to 192.168.0.102:12345\n",
      "UDP message sent to 192.168.0.102:12345\n",
      "UDP message sent to 192.168.0.102:12345\n",
      "UDP message sent to 192.168.0.102:12345\n",
      "UDP message sent to 192.168.0.102:12345\n",
      "UDP message sent to 192.168.0.102:12345\n",
      "UDP message sent to 192.168.0.102:12345\n",
      "UDP message sent to 192.168.0.102:12345\n",
      "UDP message sent to 192.168.0.102:12345\n",
      "UDP message sent to 192.168.0.102:12345\n",
      "UDP message sent to 192.168.0.102:12345\n",
      "UDP message sent to 192.168.0.102:12345\n",
      "UDP message sent to 192.168.0.102:12345\n",
      "UDP message sent to 192.168.0.102:12345\n",
      "UDP message sent to 192.168.0.102:12345\n",
      "UDP message sent to 192.168.0.102:12345\n",
      "UDP message sent to 192.168.0.102:12345\n",
      "UDP message sent to 192.168.0.102:12345\n",
      "UDP message sent to 192.168.0.102:12345\n",
      "UDP message sent to 192.168.0.102:12345\n",
      "UDP message sent to 192.168.0.102:12345\n",
      "UDP message sent to 192.168.0.102:12345\n",
      "UDP message sent to 192.168.0.102:12345\n",
      "UDP message sent to 192.168.0.102:12345\n",
      "UDP message sent to 192.168.0.102:12345\n",
      "UDP message sent to 192.168.0.102:12345\n",
      "UDP message sent to 192.168.0.102:12345\n",
      "UDP message sent to 192.168.0.102:12345\n",
      "UDP message sent to 192.168.0.102:12345\n",
      "UDP message sent to 192.168.0.102:12345\n",
      "UDP message sent to 192.168.0.102:12345\n",
      "UDP message sent to 192.168.0.102:12345\n",
      "UDP message sent to 192.168.0.102:12345\n",
      "UDP message sent to 192.168.0.102:12345\n",
      "UDP message sent to 192.168.0.102:12345\n",
      "UDP message sent to 192.168.0.102:12345\n",
      "UDP message sent to 192.168.0.102:12345\n",
      "UDP message sent to 192.168.0.102:12345\n",
      "UDP message sent to 192.168.0.102:12345\n",
      "UDP message sent to 192.168.0.102:12345\n",
      "UDP message sent to 192.168.0.102:12345\n",
      "UDP message sent to 192.168.0.102:12345\n",
      "UDP message sent to 192.168.0.102:12345\n",
      "UDP message sent to 192.168.0.102:12345\n",
      "UDP message sent to 192.168.0.102:12345\n",
      "UDP message sent to 192.168.0.102:12345\n",
      "UDP message sent to 192.168.0.102:12345\n",
      "UDP message sent to 192.168.0.102:12345\n",
      "UDP message sent to 192.168.0.102:12345\n",
      "UDP message sent to 192.168.0.102:12345\n",
      "UDP message sent to 192.168.0.102:12345\n",
      "UDP message sent to 192.168.0.102:12345\n",
      "UDP message sent to 192.168.0.102:12345\n",
      "UDP message sent to 192.168.0.102:12345\n",
      "UDP message sent to 192.168.0.102:12345\n",
      "UDP message sent to 192.168.0.102:12345\n",
      "UDP message sent to 192.168.0.102:12345\n",
      "UDP message sent to 192.168.0.102:12345\n",
      "UDP message sent to 192.168.0.102:12345\n",
      "UDP message sent to 192.168.0.102:12345\n",
      "UDP message sent to 192.168.0.102:12345\n",
      "UDP message sent to 192.168.0.102:12345\n",
      "UDP message sent to 192.168.0.102:12345\n",
      "UDP message sent to 192.168.0.102:12345\n",
      "UDP message sent to 192.168.0.102:12345\n",
      "{ [Error: send EHOSTUNREACH 192.168.0.102:12345]\n",
      "  code: 'EHOSTUNREACH',\n",
      "  errno: 'EHOSTUNREACH',\n",
      "  syscall: 'send',\n",
      "  address: '192.168.0.102',\n",
      "  port: 12345 }\n",
      "\n",
      "remove 192.168.0.102 from pool 0 devices left\n",
      "UDP message sent to 192.168.0.102:12345\n"
     ]
    }
   ],
   "source": [
    "action();"
   ]
  },
  {
   "cell_type": "code",
   "execution_count": null,
   "metadata": {
    "collapsed": true
   },
   "outputs": [],
   "source": []
  }
 ],
 "metadata": {
  "kernelspec": {
   "display_name": "Javascript (Node.js)",
   "language": "javascript",
   "name": "javascript"
  },
  "language_info": {
   "file_extension": ".js",
   "mimetype": "application/javascript",
   "name": "javascript",
   "version": "5.0.0"
  }
 },
 "nbformat": 4,
 "nbformat_minor": 0
}
